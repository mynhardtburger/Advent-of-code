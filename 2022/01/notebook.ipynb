{
 "cells": [
  {
   "attachments": {},
   "cell_type": "markdown",
   "metadata": {},
   "source": [
    "https://adventofcode.com/2022/day/1"
   ]
  },
  {
   "cell_type": "code",
   "execution_count": 2,
   "metadata": {},
   "outputs": [],
   "source": [
    "sample_data = \"\"\"1000\n",
    "2000\n",
    "3000\n",
    "\n",
    "4000\n",
    "\n",
    "5000\n",
    "6000\n",
    "\n",
    "7000\n",
    "8000\n",
    "9000\n",
    "\n",
    "10000\n",
    "\"\"\""
   ]
  },
  {
   "cell_type": "code",
   "execution_count": 19,
   "metadata": {},
   "outputs": [],
   "source": [
    "from typing import Optional\n",
    "\n",
    "def find_max(lines:list[str]) -> tuple[list[int], Optional[int], Optional[int]]:\n",
    "    calories: list[int] = []\n",
    "    elf_calories = 0\n",
    "    max_calories = 0\n",
    "    max_calories_idx: Optional[int] = None\n",
    "    for _, line in enumerate(lines):\n",
    "        if not line.strip():\n",
    "            calories.append(elf_calories)\n",
    "\n",
    "            if elf_calories > max_calories:\n",
    "                max_calories = elf_calories\n",
    "                max_calories_idx = len(calories) - 1\n",
    "\n",
    "            elf_calories = 0\n",
    "        else:\n",
    "            elf_calories += int(line.strip())\n",
    "\n",
    "    return calories, max_calories, max_calories_idx, "
   ]
  },
  {
   "cell_type": "code",
   "execution_count": 13,
   "metadata": {},
   "outputs": [
    {
     "name": "stdout",
     "output_type": "stream",
     "text": [
      "[6000, 4000, 11000, 24000]\n",
      "24000\n",
      "3\n"
     ]
    }
   ],
   "source": [
    "# test on sample data\n",
    "calories, max_calories, id = find_max(sample_data.splitlines())\n",
    "print(calories)\n",
    "print(max_calories)\n",
    "print(id)"
   ]
  },
  {
   "cell_type": "code",
   "execution_count": 20,
   "metadata": {},
   "outputs": [
    {
     "name": "stdout",
     "output_type": "stream",
     "text": [
      "[52551, 55778, 61127, 39354, 42353, 55163, 36165, 44092, 46668, 53007, 54432, 51549, 40522, 47300, 47541, 49095, 58105, 52649, 60267, 42347, 48228, 34745, 55324, 57303, 47242, 30012, 48546, 53882, 44812, 44772, 34055, 50183, 44079, 49556, 51610, 54802, 55242, 27917, 49589, 51370, 51410, 54716, 35402, 49691, 48059, 46544, 46363, 41669, 50750, 68194, 55845, 32634, 56582, 50268, 46836, 51003, 48714, 14487, 46008, 52820, 49884, 34356, 55005, 32348, 61407, 48149, 42392, 46579, 49247, 59640, 31114, 46556, 61971, 63862, 57883, 33899, 56425, 60767, 60730, 42412, 56832, 44973, 59818, 48012, 50299, 52592, 48604, 48688, 48603, 60335, 46730, 22926, 32840, 58787, 41015, 47121, 34097, 55670, 42360, 70523, 53655, 50657, 49705, 39998, 51527, 44914, 38748, 52111, 46528, 34599, 49153, 42129, 65984, 47240, 54767, 39315, 60119, 58181, 69195, 49288, 43554, 31886, 48894, 43395, 50699, 52122, 52839, 54440, 37517, 1357, 60732, 43080, 39511, 33181, 51485, 50626, 47032, 59205, 51107, 36835, 46341, 43994, 57180, 44659, 59601, 57750, 47448, 48625, 37069, 71471, 51342, 62465, 57633, 46452, 54216, 51560, 34413, 48801, 40208, 38755, 52095, 53805, 30784, 58445, 58302, 48951, 48797, 49105, 38215, 21667, 63227, 55479, 23306, 55879, 58491, 55092, 45989, 46040, 46713, 44920, 52489, 56423, 46637, 60630, 57325, 49731, 27379, 62826, 45219, 49098, 59815, 49866, 31285, 54317, 38026, 38193, 56720, 45819, 56569, 32727, 59787, 19905, 25117, 58292, 40255, 46347, 63542, 48215, 25501, 33743, 53163, 47831, 51243, 47026, 49844, 51495, 44428, 49998, 57805, 46509, 56641, 45392, 44353, 48537, 47072, 50624, 54047, 38531, 45693, 44705, 42562, 40467, 46087, 61887, 57671]\n",
      "71471\n",
      "149\n"
     ]
    }
   ],
   "source": [
    "# Run on question data\n",
    "with open(\"./input.txt\", \"rt\") as f:\n",
    "    data = f.readlines()\n",
    "\n",
    "calories, max_calories, id = find_max(data)\n",
    "print(calories)\n",
    "print(max_calories)\n",
    "print(id)"
   ]
  },
  {
   "attachments": {},
   "cell_type": "markdown",
   "metadata": {},
   "source": [
    "https://adventofcode.com/2022/day/1#part2"
   ]
  },
  {
   "cell_type": "code",
   "execution_count": 23,
   "metadata": {},
   "outputs": [
    {
     "data": {
      "text/plain": [
       "211189"
      ]
     },
     "execution_count": 23,
     "metadata": {},
     "output_type": "execute_result"
    }
   ],
   "source": [
    "sum(sorted(calories, reverse=True)[:3])"
   ]
  }
 ],
 "metadata": {
  "kernelspec": {
   "display_name": "Python 3",
   "language": "python",
   "name": "python3"
  },
  "language_info": {
   "codemirror_mode": {
    "name": "ipython",
    "version": 3
   },
   "file_extension": ".py",
   "mimetype": "text/x-python",
   "name": "python",
   "nbconvert_exporter": "python",
   "pygments_lexer": "ipython3",
   "version": "3.10.9"
  },
  "orig_nbformat": 4,
  "vscode": {
   "interpreter": {
    "hash": "2010c68ffad91ecac86a34a959aaf2cdcf0c9de3f5e856a42b1f314f80379302"
   }
  }
 },
 "nbformat": 4,
 "nbformat_minor": 2
}
